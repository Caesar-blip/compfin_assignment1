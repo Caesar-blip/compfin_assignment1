{
 "cells": [
  {
   "cell_type": "markdown",
   "id": "b0b19286",
   "metadata": {},
   "source": [
    "# Assignment 01"
   ]
  },
  {
   "cell_type": "markdown",
   "id": "ebd919e4",
   "metadata": {},
   "source": [
    "## Part II - Binomial Tree"
   ]
  },
  {
   "cell_type": "code",
   "execution_count": 1,
   "id": "bea97e6d",
   "metadata": {},
   "outputs": [],
   "source": [
    "import numpy as np"
   ]
  },
  {
   "cell_type": "code",
   "execution_count": 2,
   "id": "b6a0f1cd",
   "metadata": {},
   "outputs": [],
   "source": [
    "def buildTree(S, vol, T, N):\n",
    "    \n",
    "    dt = T / N\n",
    "    \n",
    "    matrix = np.zeros((N+1, N+1))\n",
    "    \n",
    "    u = np.exp(sigma * np.sqrt(T/N))\n",
    "    d = np.exp(-sigma * np.sqrt(T/N))\n",
    "    \n",
    "    # Iterate over the lower triangle\n",
    "    for i in np.arange(N+1):\n",
    "        for j in np.arange(i + 1):\n",
    "            matrix[i,j] = S*(u**j)*(d**(i-j))\n",
    "\n",
    "    return matrix"
   ]
  },
  {
   "cell_type": "code",
   "execution_count": 3,
   "id": "c18454e1",
   "metadata": {},
   "outputs": [
    {
     "data": {
      "text/plain": [
       "array([[80.        ,  0.        ,  0.        ],\n",
       "       [74.53851387, 85.86165282,  0.        ],\n",
       "       [69.44987563, 80.        , 92.15279281]])"
      ]
     },
     "execution_count": 3,
     "metadata": {},
     "output_type": "execute_result"
    }
   ],
   "source": [
    "'''\n",
    "Example from appendix\n",
    "'''\n",
    "\n",
    "sigma = 0.1\n",
    "S = 80\n",
    "T = 1\n",
    "N = 2\n",
    "buildTree(S, sigma, T, N)"
   ]
  },
  {
   "cell_type": "code",
   "execution_count": 4,
   "id": "8f789b1d",
   "metadata": {},
   "outputs": [],
   "source": [
    "def valueOptionMatrix(tree, T, r, K, vol):\n",
    "    \n",
    "    dt = T/N\n",
    "    u = np.exp(sigma *dt)\n",
    "    d = np.exp(-sigma *dt)\n",
    "    p = 0.5\n",
    "    \n",
    "    columns = tree.shape[1]\n",
    "    rows = tree.shape[0]\n",
    "    \n",
    "    # Walk backwards, we start in last row of the matrix\n",
    "    # Add the payoff function in the last row\n",
    "    for c in np.arange(columns):\n",
    "        S = tree[rows - 1, c]\n",
    "        print(tree[rows - 1,c])\n",
    "        tree[rows - 1, c] = 0\n",
    "    \n",
    "    # For a l l o t h e r rows , we need t o combine from p r e v i o u s rows\n",
    "    # We walk backwards , from t h e l a s t row t o t h e f i r s t row\n",
    "    for i in np.arange(rows - 1)[::-1]:\n",
    "        for j in np.arange(i + 1):\n",
    "            down = tree[i + 1, j]\n",
    "            up = tree[i+1, j+1]\n",
    "            tree[i, j] = 0\n",
    "    return tree"
   ]
  },
  {
   "cell_type": "code",
   "execution_count": null,
   "id": "c4c09133",
   "metadata": {},
   "outputs": [],
   "source": []
  }
 ],
 "metadata": {
  "kernelspec": {
   "display_name": "Python 3 (ipykernel)",
   "language": "python",
   "name": "python3"
  },
  "language_info": {
   "codemirror_mode": {
    "name": "ipython",
    "version": 3
   },
   "file_extension": ".py",
   "mimetype": "text/x-python",
   "name": "python",
   "nbconvert_exporter": "python",
   "pygments_lexer": "ipython3",
   "version": "3.9.7"
  }
 },
 "nbformat": 4,
 "nbformat_minor": 5
}
