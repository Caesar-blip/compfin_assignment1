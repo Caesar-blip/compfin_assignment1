{
 "cells": [
  {
   "cell_type": "markdown",
   "id": "b0b19286",
   "metadata": {},
   "source": [
    "# Assignment 01"
   ]
  },
  {
   "cell_type": "markdown",
   "id": "ebd919e4",
   "metadata": {},
   "source": [
    "## Part II - Binomial Tree"
   ]
  },
  {
   "cell_type": "code",
   "execution_count": 1,
   "id": "bea97e6d",
   "metadata": {},
   "outputs": [],
   "source": [
    "import numpy as np\n",
    "from matplotlib import pyplot as plt\n",
    "from joblib import Parallel, delayed"
   ]
  },
  {
   "cell_type": "code",
   "execution_count": 2,
   "id": "b6a0f1cd",
   "metadata": {},
   "outputs": [],
   "source": [
    "def buildTree(S, vol, T, N):\n",
    "    \n",
    "    dt = T / N\n",
    "    \n",
    "    matrix = np.zeros((N+1, N+1))\n",
    "    \n",
    "    u = np.exp(vol * np.sqrt(T/N))\n",
    "    d = np.exp(-vol * np.sqrt(T/N))\n",
    "    \n",
    "    # Iterate over the lower triangle\n",
    "    for i in np.arange(N+1):\n",
    "        for j in np.arange(i + 1):\n",
    "            matrix[i,j] = S*(u**j)*(d**(i-j))\n",
    "\n",
    "    return matrix"
   ]
  },
  {
   "cell_type": "code",
   "execution_count": 3,
   "id": "8f789b1d",
   "metadata": {},
   "outputs": [],
   "source": [
    "def valueOptionMatrix(tree, vol, T, r, K):\n",
    "    \n",
    "    columns = tree.shape[1]\n",
    "    rows = tree.shape[0] \n",
    "    \n",
    "    dt = T/rows\n",
    "    u = np.exp(vol *np.sqrt(dt))\n",
    "    d = np.exp(-vol * np.sqrt(dt))\n",
    "    p = (np.exp(r*dt) - d) / (u - d)\n",
    "    \n",
    "    option_matrix = np.zeros((rows, columns))\n",
    "    \n",
    "    # Walk backwards, we start in last row of the matrix\n",
    "    # Add the payoff function in the last row\n",
    "    for column in np.arange(columns):\n",
    "        S = tree[rows - 1, column]\n",
    "        option_matrix[rows - 1, column] =  S - K if S-K > 0 else 0\n",
    "    \n",
    "    # For a l l o t h e r rows , we need t o combine from p r e v i o u s rows\n",
    "    # We walk backwards , from t h e l a s t row t o t h e f i r s t row\n",
    "    for row in np.arange(rows - 1)[::-1]:\n",
    "        for column in np.arange(row + 1):\n",
    "            down = option_matrix[row + 1, column]\n",
    "            up = option_matrix[row+1, column+1]\n",
    "            option_matrix[row, column] = (up*p+down*(1-p)) * np.exp(-r*dt)\n",
    "    return option_matrix"
   ]
  },
  {
   "cell_type": "code",
   "execution_count": 6,
   "id": "c18454e1",
   "metadata": {},
   "outputs": [
    {
     "data": {
      "text/plain": [
       "array([[ 11.53347991,   0.        ,   0.        , ...,   0.        ,\n",
       "          0.        ,   0.        ],\n",
       "       [  9.59175926,  13.39574461,   0.        , ...,   0.        ,\n",
       "          0.        ,   0.        ],\n",
       "       [  7.85684611,  11.25404549,  15.45134913, ...,   0.        ,\n",
       "          0.        ,   0.        ],\n",
       "       ...,\n",
       "       [  0.        ,   0.        ,   0.        , ..., 289.94768907,\n",
       "          0.        ,   0.        ],\n",
       "       [  0.        ,   0.        ,   0.        , ..., 278.98502369,\n",
       "        300.97665399,   0.        ],\n",
       "       [  0.        ,   0.        ,   0.        , ..., 268.32487093,\n",
       "        289.70286396, 312.32503788]])"
      ]
     },
     "execution_count": 6,
     "metadata": {},
     "output_type": "execute_result"
    }
   ],
   "source": [
    "'''\n",
    "Example from appendix\n",
    "'''\n",
    "\n",
    "r = 0.06\n",
    "vol = 0.20\n",
    "S = 100\n",
    "T = 1\n",
    "N = 50\n",
    "tree = buildTree(S, vol, T, N)\n",
    "valueOptionMatrix(tree, vol, T, r, 99)"
   ]
  },
  {
   "cell_type": "code",
   "execution_count": 5,
   "id": "c4c09133",
   "metadata": {},
   "outputs": [],
   "source": [
    "'''\n",
    "Study Convergence\n",
    "'''\n",
    "def run_sample(N):\n",
    "    tree = buildTree(S, vol, T, N)\n",
    "    return valueOptionMatrix(tree, vol, T, r, 99)[0][0]"
   ]
  },
  {
   "cell_type": "code",
   "execution_count": 7,
   "id": "0a7eb9e5",
   "metadata": {},
   "outputs": [],
   "source": [
    "ans = Parallel(n_jobs=12)(delayed(run_sample)(N = i)\n",
    "                                      for i in np.arange(10,1000,5))\n"
   ]
  },
  {
   "cell_type": "code",
   "execution_count": 9,
   "id": "6e235082",
   "metadata": {},
   "outputs": [
    {
     "data": {
      "text/plain": [
       "Text(0.5, 0, 'Number of steps in tree')"
      ]
     },
     "execution_count": 9,
     "metadata": {},
     "output_type": "execute_result"
    },
    {
     "data": {
      "image/png": "[encoded data removed]",
      "text/plain": [
       "<Figure size 432x288 with 1 Axes>"
      ]
     },
     "metadata": {
      "needs_background": "light"
     },
     "output_type": "display_data"
    }
   ],
   "source": [
    "plt.plot(np.arange(10,1000,5), ans)\n",
    "plt.ylabel(\"Option price at t = 0\")\n",
    "plt.xlabel(\"Number of steps in tree\")"
   ]
  },
  {
   "cell_type": "code",
   "execution_count": 14,
   "id": "35bfcd63",
   "metadata": {},
   "outputs": [],
   "source": [
    "\"\"\"\n",
    "How many stocks to buy?\n",
    "\"\"\"\n",
    "def getStocks(vol):\n",
    "    tree = buildTree(S, vol, T, 100)\n",
    "    option_prices = valueOptionMatrix(tree, vol, T, r, 99)\n",
    "    dt = T / N\n",
    "    fu = option_prices[1][1]\n",
    "    fd = option_prices[1][0]\n",
    "    u = np.exp(vol *np.sqrt(dt))\n",
    "    d = np.exp(-vol * np.sqrt(dt))\n",
    "    S0 = 100\n",
    "    return (fu -fd) / (S0*u - S0*d)"
   ]
  },
  {
   "cell_type": "code",
   "execution_count": 18,
   "id": "48f462b4",
   "metadata": {},
   "outputs": [],
   "source": [
    "ans = [getStocks(x) for x in np.linspace(0.01,1,100)]"
   ]
  },
  {
   "cell_type": "code",
   "execution_count": 22,
   "id": "d4f97572",
   "metadata": {},
   "outputs": [
    {
     "data": {
      "text/plain": [
       "Text(0.5, 0, 'Volatility')"
      ]
     },
     "execution_count": 22,
     "metadata": {},
     "output_type": "execute_result"
    },
    {
     "data": {
      "image/png": "[encoded data removed]",
      "text/plain": [
       "<Figure size 432x288 with 1 Axes>"
      ]
     },
     "metadata": {
      "needs_background": "light"
     },
     "output_type": "display_data"
    }
   ],
   "source": [
    "plt.plot(np.linspace(0.01,1,100),ans)\n",
    "plt.ylabel(\"Amount of Stocks to buy at t0\")\n",
    "plt.xlabel(\"Volatility\")"
   ]
  },
  {
   "cell_type": "code",
   "execution_count": 56,
   "id": "f5e2b0ce",
   "metadata": {},
   "outputs": [],
   "source": [
    "\"\"\"\n",
    "American option\n",
    "\"\"\"\n",
    "def valueOptionMatrixAmerican(tree, vol, T, r, K):\n",
    "    \n",
    "    columns = tree.shape[1]\n",
    "    rows = tree.shape[0] \n",
    "    \n",
    "    dt = T/rows\n",
    "    u = np.exp(vol *np.sqrt(dt))\n",
    "    d = np.exp(-vol * np.sqrt(dt))\n",
    "    p = (np.exp(r*dt) - d) / (u - d)\n",
    "    \n",
    "    option_matrix = np.zeros((rows, columns))\n",
    "    \n",
    "    # Walk backwards, we start in last row of the matrix\n",
    "    # Add the payoff function in the last row\n",
    "    for column in np.arange(columns):\n",
    "        S = tree[rows - 1, column]\n",
    "        option_matrix[rows - 1, column] =  S - K if S-K > 0 else 0\n",
    "    \n",
    "    # For a l l o t h e r rows , we need t o combine from p r e v i o u s rows\n",
    "    # We walk backwards , from t h e l a s t row t o t h e f i r s t row\n",
    "    for row in np.arange(rows - 1)[::-1]:\n",
    "        for column in np.arange(row + 1):\n",
    "            down = option_matrix[row + 1, column]\n",
    "            up = option_matrix[row+1, column+1]\n",
    "            discounted_value = (up*p+down*(1-p)) * np.exp(-r*dt)\n",
    "            \n",
    "            S = tree[row, column]\n",
    "            value_execute = S - K if S-K > 0 else 0\n",
    "\n",
    "            print(f'value execute:{value_execute}')\n",
    "            print(f'disco:{discounted_value}')\n",
    "            option_matrix[row, column] = value_execute if value_execute>discounted_value else discounted_value\n",
    "    return option_matrix"
   ]
  },
  {
   "cell_type": "code",
   "execution_count": 65,
   "id": "0197516a",
   "metadata": {
    "scrolled": true
   },
   "outputs": [
    {
     "data": {
      "text/plain": [
       "array([[100.        ,   0.        ,   0.        ,   0.        ],\n",
       "       [ 94.39000224, 105.9434237 ,   0.        ,   0.        ],\n",
       "       [ 89.09472523, 100.        , 112.24009024,   0.        ],\n",
       "       [ 84.09651314,  94.39000224, 105.9434237 , 118.91099436]])"
      ]
     },
     "execution_count": 65,
     "metadata": {},
     "output_type": "execute_result"
    }
   ],
   "source": [
    "tree"
   ]
  },
  {
   "cell_type": "code",
   "execution_count": 66,
   "id": "36d99478",
   "metadata": {},
   "outputs": [
    {
     "name": "stdout",
     "output_type": "stream",
     "text": [
      "value execute:0\n",
      "disco:0.0\n",
      "value execute:1.0\n",
      "disco:15.35240121037367\n",
      "value execute:13.240090244566744\n",
      "disco:34.357011034931716\n",
      "value execute:0\n",
      "disco:33.9452456366473\n",
      "value execute:6.943423696125066\n",
      "disco:54.590020370845885\n",
      "value execute:1.0\n",
      "disco:73.43907458711004\n"
     ]
    }
   ],
   "source": [
    "r = 0.8\n",
    "vol = 0.1\n",
    "S = 100\n",
    "T = 1\n",
    "N = 3\n",
    "K = 99\n",
    "tree = buildTree(S, vol, T, N)\n",
    "europe = valueOptionMatrix(tree, vol, T, r, K)\n",
    "amrica = valueOptionMatrixAmerican(tree, vol, T, r, K)"
   ]
  },
  {
   "cell_type": "code",
   "execution_count": 61,
   "id": "36aa69c8",
   "metadata": {},
   "outputs": [
    {
     "data": {
      "text/plain": [
       "array([[53.39369067,  0.        ,  0.        ,  0.        ],\n",
       "       [22.79607338, 41.43519881,  0.        ,  0.        ],\n",
       "       [ 0.        , 12.58104909, 29.47268645,  0.        ],\n",
       "       [ 0.        ,  0.        ,  6.9434237 , 19.91099436]])"
      ]
     },
     "execution_count": 61,
     "metadata": {},
     "output_type": "execute_result"
    }
   ],
   "source": [
    "europe"
   ]
  },
  {
   "cell_type": "code",
   "execution_count": 62,
   "id": "cc23d192",
   "metadata": {},
   "outputs": [
    {
     "data": {
      "text/plain": [
       "array([[53.39369067,  0.        ,  0.        ,  0.        ],\n",
       "       [22.79607338, 41.43519881,  0.        ,  0.        ],\n",
       "       [ 0.        , 12.58104909, 29.47268645,  0.        ],\n",
       "       [ 0.        ,  0.        ,  6.9434237 , 19.91099436]])"
      ]
     },
     "execution_count": 62,
     "metadata": {},
     "output_type": "execute_result"
    }
   ],
   "source": [
    "amrica"
   ]
  },
  {
   "cell_type": "code",
   "execution_count": null,
   "id": "b8c8c4c3",
   "metadata": {},
   "outputs": [],
   "source": [
    "\"\"\"\n",
    "Conclusion: American call and European calls are equal when there is no dividend\n",
    "\"\"\""
   ]
  }
 ],
 "metadata": {
  "kernelspec": {
   "display_name": "Python 3",
   "language": "python",
   "name": "python3"
  },
  "language_info": {
   "codemirror_mode": {
    "name": "ipython",
    "version": 3
   },
   "file_extension": ".py",
   "mimetype": "text/x-python",
   "name": "python",
   "nbconvert_exporter": "python",
   "pygments_lexer": "ipython3",
   "version": "3.9.2"
  }
 },
 "nbformat": 4,
 "nbformat_minor": 5
}
