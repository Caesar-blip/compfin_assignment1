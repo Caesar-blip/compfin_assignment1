{
 "cells": [
  {
   "cell_type": "markdown",
   "id": "b0b19286",
   "metadata": {},
   "source": [
    "# Assignment 01"
   ]
  },
  {
   "cell_type": "markdown",
   "id": "ebd919e4",
   "metadata": {},
   "source": [
    "## Part II - Binomial Tree"
   ]
  },
  {
   "cell_type": "code",
   "execution_count": 1,
   "id": "bea97e6d",
   "metadata": {},
   "outputs": [],
   "source": [
    "import numpy as np\n",
    "from matplotlib import pyplot as plt\n",
    "from joblib import Parallel, delayed"
   ]
  },
  {
   "cell_type": "code",
   "execution_count": 2,
   "id": "b6a0f1cd",
   "metadata": {},
   "outputs": [],
   "source": [
    "def buildTree(S, vol, T, N):\n",
    "    \n",
    "    dt = T / N\n",
    "    \n",
    "    matrix = np.zeros((N+1, N+1))\n",
    "    \n",
    "    u = np.exp(vol * np.sqrt(T/N))\n",
    "    d = np.exp(-vol * np.sqrt(T/N))\n",
    "    \n",
    "    # Iterate over the lower triangle\n",
    "    for i in np.arange(N+1):\n",
    "        for j in np.arange(i + 1):\n",
    "            matrix[i,j] = S*(u**j)*(d**(i-j))\n",
    "\n",
    "    return matrix"
   ]
  },
  {
   "cell_type": "code",
   "execution_count": 54,
   "id": "8f789b1d",
   "metadata": {},
   "outputs": [],
   "source": [
    "def valueOptionMatrix(tree, vol, T, r, K, option=\"call\"):\n",
    "    \n",
    "    columns = tree.shape[1]\n",
    "    rows = tree.shape[0] \n",
    "    \n",
    "    dt = T/rows\n",
    "    u = np.exp(vol *np.sqrt(dt))\n",
    "    d = np.exp(-vol * np.sqrt(dt))\n",
    "    p = (np.exp(r*dt) - d) / (u - d)\n",
    "    assert 0<d<np.exp(r*dt)<u,  \"the model doesn't work with these parameters\"  \n",
    "    \n",
    "    option_matrix = np.zeros((rows, columns))\n",
    "    \n",
    "    # Walk backwards, we start in last row of the matrix\n",
    "    # Add the payoff function in the last row\n",
    "    for column in np.arange(columns):\n",
    "        S = tree[rows - 1, column]\n",
    "        option_matrix[rows - 1, column] =  S - K if S-K > 0 else 0\n",
    "        if option == \"put\":\n",
    "            option_matrix[rows - 1, column] =  K-S if K-S > 0 else 0\n",
    "    \n",
    "    # For a l l o t h e r rows , we need t o combine from p r e v i o u s rows\n",
    "    # We walk backwards , from t h e l a s t row t o t h e f i r s t row\n",
    "    for row in np.arange(rows - 1)[::-1]:\n",
    "        for column in np.arange(row + 1):\n",
    "            down = option_matrix[row + 1, column]\n",
    "            up = option_matrix[row+1, column+1]\n",
    "            option_matrix[row, column] = (up*p+down*(1-p)) * np.exp(-r*dt)\n",
    "                \n",
    "    return option_matrix"
   ]
  },
  {
   "cell_type": "code",
   "execution_count": 4,
   "id": "c18454e1",
   "metadata": {},
   "outputs": [
    {
     "data": {
      "text/plain": [
       "array([[ 11.53347991,   0.        ,   0.        , ...,   0.        ,\n",
       "          0.        ,   0.        ],\n",
       "       [  9.59175926,  13.39574461,   0.        , ...,   0.        ,\n",
       "          0.        ,   0.        ],\n",
       "       [  7.85684611,  11.25404549,  15.45134913, ...,   0.        ,\n",
       "          0.        ,   0.        ],\n",
       "       ...,\n",
       "       [  0.        ,   0.        ,   0.        , ..., 289.94768907,\n",
       "          0.        ,   0.        ],\n",
       "       [  0.        ,   0.        ,   0.        , ..., 278.98502369,\n",
       "        300.97665399,   0.        ],\n",
       "       [  0.        ,   0.        ,   0.        , ..., 268.32487093,\n",
       "        289.70286396, 312.32503788]])"
      ]
     },
     "execution_count": 4,
     "metadata": {},
     "output_type": "execute_result"
    }
   ],
   "source": [
    "'''\n",
    "Example from appendix\n",
    "'''\n",
    "\n",
    "r = 0.06\n",
    "vol = 0.20\n",
    "S = 100\n",
    "T = 1\n",
    "N = 50\n",
    "tree = buildTree(S, vol, T, N)\n",
    "valueOptionMatrix(tree, vol, T, r, 99)"
   ]
  },
  {
   "cell_type": "code",
   "execution_count": 5,
   "id": "c4c09133",
   "metadata": {},
   "outputs": [],
   "source": [
    "'''\n",
    "Study Convergence\n",
    "'''\n",
    "def run_sample(N):\n",
    "    tree = buildTree(S, vol, T, N)\n",
    "    return valueOptionMatrix(tree, vol, T, r, 99)[0][0]"
   ]
  },
  {
   "cell_type": "code",
   "execution_count": 6,
   "id": "c290de91",
   "metadata": {},
   "outputs": [],
   "source": [
    "ans = Parallel(n_jobs=12)(delayed(run_sample)(N = i)\n",
    "                                      for i in np.arange(10,1000,5))\n"
   ]
  },
  {
   "cell_type": "code",
   "execution_count": 7,
   "id": "f96b5db4",
   "metadata": {},
   "outputs": [
    {
     "data": {
      "text/plain": [
       "Text(0.5, 0, 'Number of steps in tree')"
      ]
     },
     "execution_count": 7,
     "metadata": {},
     "output_type": "execute_result"
    },
    {
     "data": {
      "image/png": "[encoded data removed]",
      "text/plain": [
       "<Figure size 432x288 with 1 Axes>"
      ]
     },
     "metadata": {
      "needs_background": "light"
     },
     "output_type": "display_data"
    }
   ],
   "source": [
    "plt.plot(np.arange(10,1000,5), ans)\n",
    "plt.ylabel(\"Option price at t = 0\")\n",
    "plt.xlabel(\"Number of steps in tree\")"
   ]
  },
  {
   "cell_type": "code",
   "execution_count": 8,
   "id": "03ca29cf",
   "metadata": {},
   "outputs": [],
   "source": [
    "\"\"\"\n",
    "How many stocks to buy?\n",
    "\"\"\"\n",
    "def getStocks(vol):\n",
    "    tree = buildTree(S, vol, T, 100)\n",
    "    option_prices = valueOptionMatrix(tree, vol, T, r, 99)\n",
    "    dt = T / N\n",
    "    fu = option_prices[1][1]\n",
    "    fd = option_prices[1][0]\n",
    "    u = np.exp(vol *np.sqrt(dt))\n",
    "    d = np.exp(-vol * np.sqrt(dt))\n",
    "    S0 = 100\n",
    "    return (fu -fd) / (S0*u - S0*d)"
   ]
  },
  {
   "cell_type": "code",
   "execution_count": 66,
   "id": "02019f5a",
   "metadata": {},
   "outputs": [
    {
     "data": {
      "text/plain": [
       "0.061546599248505134"
      ]
     },
     "execution_count": 66,
     "metadata": {},
     "output_type": "execute_result"
    }
   ],
   "source": [
    "getStocks(5)"
   ]
  },
  {
   "cell_type": "code",
   "execution_count": 75,
   "id": "f716bb01",
   "metadata": {},
   "outputs": [],
   "source": [
    "ans = [getStocks(x) for x in np.linspace(0.01,1,100)]"
   ]
  },
  {
   "cell_type": "code",
   "execution_count": 76,
   "id": "fb19d965",
   "metadata": {},
   "outputs": [
    {
     "data": {
      "text/plain": [
       "Text(0.5, 0, 'Volatility')"
      ]
     },
     "execution_count": 76,
     "metadata": {},
     "output_type": "execute_result"
    },
    {
     "data": {
      "image/png": "[encoded data removed]",
      "text/plain": [
       "<Figure size 432x288 with 1 Axes>"
      ]
     },
     "metadata": {
      "needs_background": "light"
     },
     "output_type": "display_data"
    }
   ],
   "source": [
    "plt.plot(np.linspace(0.01,1,100),ans)\n",
    "plt.ylabel(\"Amount of Stocks to buy at t0\")\n",
    "plt.xlabel(\"Volatility\")"
   ]
  },
  {
   "cell_type": "code",
   "execution_count": 53,
   "id": "de741eba",
   "metadata": {},
   "outputs": [],
   "source": [
    "\"\"\"\n",
    "American option\n",
    "\"\"\"\n",
    "def valueOptionMatrixAmerican(tree, vol, T, r, K, option=\"call\"):\n",
    "    \n",
    "    columns = tree.shape[1]\n",
    "    rows = tree.shape[0] \n",
    "    \n",
    "    dt = T/rows\n",
    "    u = np.exp(vol *np.sqrt(dt))\n",
    "    d = np.exp(-vol * np.sqrt(dt))\n",
    "    p = (np.exp(r*dt) - d) / (u - d)\n",
    "    assert 0<d<np.exp(r*dt)<u, \"the model doesn't work with these parameters\" \n",
    "    option_matrix = np.zeros((rows, columns))\n",
    "    \n",
    "    # Walk backwards, we start in last row of the matrix\n",
    "    # Add the payoff function in the last row\n",
    "    for column in np.arange(columns):\n",
    "        S = tree[rows - 1, column]\n",
    "        option_matrix[rows - 1, column] =  S - K if S-K > 0 else 0\n",
    "        if option == \"put\":\n",
    "            option_matrix[rows - 1, column] =  K-S if K-S > 0 else 0\n",
    "    \n",
    "    # For a l l o t h e r rows , we need t o combine from p r e v i o u s rows\n",
    "    # We walk backwards , from t h e l a s t row t o t h e f i r s t row\n",
    "    for row in np.arange(rows - 1)[::-1]:\n",
    "        for column in np.arange(row + 1):\n",
    "            down = option_matrix[row + 1, column]\n",
    "            up = option_matrix[row+1, column+1]\n",
    "            discounted_value = (up*p+down*(1-p)) * np.exp(-r*dt)\n",
    "            \n",
    "            S = tree[row, column]\n",
    "            value_execute = S - K if S-K > 0 else 0\n",
    "            if option==\"put\":\n",
    "                value_execute = K-S if K-S > 0 else 0\n",
    "\n",
    "            option_matrix[row, column] = value_execute if value_execute>discounted_value else discounted_value\n",
    "    return option_matrix"
   ]
  },
  {
   "cell_type": "code",
   "execution_count": 79,
   "id": "6255c0dc",
   "metadata": {},
   "outputs": [],
   "source": [
    "r = 0.06\n",
    "vol = .2\n",
    "S = 100\n",
    "T = 1\n",
    "N = 100\n",
    "K = 99\n",
    "tree = buildTree(S, vol, T, N)\n",
    "europe = valueOptionMatrix(tree, vol, T, r, K)\n",
    "europe_put = valueOptionMatrix(tree, vol, T, r, K, \"put\")\n",
    "amrica = valueOptionMatrixAmerican(tree, vol, T, r, K)\n",
    "amrica_put = valueOptionMatrixAmerican(tree, vol, T, r, K, \"put\")"
   ]
  },
  {
   "cell_type": "code",
   "execution_count": 80,
   "id": "db6a152b",
   "metadata": {
    "scrolled": true
   },
   "outputs": [
    {
     "data": {
      "text/plain": [
       "array([[ 11.54504564,   0.        ,   0.        , ...,   0.        ,\n",
       "          0.        ,   0.        ],\n",
       "       [ 10.17902937,  12.87118746,   0.        , ...,   0.        ,\n",
       "          0.        ,   0.        ],\n",
       "       [  8.91485174,  11.40571643,  14.29444678, ...,   0.        ,\n",
       "          0.        ,   0.        ],\n",
       "       ...,\n",
       "       [  0.        ,   0.        ,   0.        , ..., 611.0558751 ,\n",
       "          0.        ,   0.        ],\n",
       "       [  0.        ,   0.        ,   0.        , ..., 596.93664322,\n",
       "        625.33595697,   0.        ],\n",
       "       [  0.        ,   0.        ,   0.        , ..., 583.09584693,\n",
       "        610.93270652, 639.90560989]])"
      ]
     },
     "execution_count": 80,
     "metadata": {},
     "output_type": "execute_result"
    }
   ],
   "source": [
    "europe"
   ]
  },
  {
   "cell_type": "code",
   "execution_count": 81,
   "id": "4afc8e31",
   "metadata": {},
   "outputs": [
    {
     "data": {
      "text/plain": [
       "array([[ 4.7955865 ,  0.        ,  0.        , ...,  0.        ,\n",
       "         0.        ,  0.        ],\n",
       "       [ 5.46631015,  4.15663523,  0.        , ...,  0.        ,\n",
       "         0.        ,  0.        ],\n",
       "       [ 6.19966526,  4.76795405,  3.57402516, ...,  0.        ,\n",
       "         0.        ,  0.        ],\n",
       "       ...,\n",
       "       [84.79649259, 84.22163392, 83.62331483, ...,  0.        ,\n",
       "         0.        ,  0.        ],\n",
       "       [85.13422726, 84.57075378, 83.98428452, ...,  0.        ,\n",
       "         0.        ,  0.        ],\n",
       "       [85.46647168, 84.91415791, 84.33930379, ...,  0.        ,\n",
       "         0.        ,  0.        ]])"
      ]
     },
     "execution_count": 81,
     "metadata": {},
     "output_type": "execute_result"
    }
   ],
   "source": [
    "europe_put"
   ]
  },
  {
   "cell_type": "code",
   "execution_count": 82,
   "id": "d9fb9a6e",
   "metadata": {
    "scrolled": true
   },
   "outputs": [
    {
     "data": {
      "text/plain": [
       "array([[ 11.54504564,   0.        ,   0.        , ...,   0.        ,\n",
       "          0.        ,   0.        ],\n",
       "       [ 10.17902937,  12.87118746,   0.        , ...,   0.        ,\n",
       "          0.        ,   0.        ],\n",
       "       [  8.91485174,  11.40571643,  14.29444678, ...,   0.        ,\n",
       "          0.        ,   0.        ],\n",
       "       ...,\n",
       "       [  0.        ,   0.        ,   0.        , ..., 611.0558751 ,\n",
       "          0.        ,   0.        ],\n",
       "       [  0.        ,   0.        ,   0.        , ..., 596.93664322,\n",
       "        625.33595697,   0.        ],\n",
       "       [  0.        ,   0.        ,   0.        , ..., 583.09584693,\n",
       "        610.93270652, 639.90560989]])"
      ]
     },
     "execution_count": 82,
     "metadata": {},
     "output_type": "execute_result"
    }
   ],
   "source": [
    "amrica"
   ]
  },
  {
   "cell_type": "code",
   "execution_count": 83,
   "id": "c36de2ee",
   "metadata": {},
   "outputs": [
    {
     "data": {
      "text/plain": [
       "array([[ 5.35915401,  0.        ,  0.        , ...,  0.        ,\n",
       "         0.        ,  0.        ],\n",
       "       [ 6.1409692 ,  4.6141048 ,  0.        , ...,  0.        ,\n",
       "         0.        ,  0.        ],\n",
       "       [ 7.00422614,  5.31856865,  3.94251903, ...,  0.        ,\n",
       "         0.        ,  0.        ],\n",
       "       ...,\n",
       "       [84.91415791, 84.33930379, 83.74098942, ...,  0.        ,\n",
       "         0.        ,  0.        ],\n",
       "       [85.19307627, 84.62960502, 84.04313808, ...,  0.        ,\n",
       "         0.        ,  0.        ],\n",
       "       [85.46647168, 84.91415791, 84.33930379, ...,  0.        ,\n",
       "         0.        ,  0.        ]])"
      ]
     },
     "execution_count": 83,
     "metadata": {},
     "output_type": "execute_result"
    }
   ],
   "source": [
    "amrica_put"
   ]
  },
  {
   "cell_type": "code",
   "execution_count": null,
   "id": "2f9023ce",
   "metadata": {},
   "outputs": [],
   "source": [
    "\"\"\"\n",
    "Conclusion: \n",
    " - American call and European calls are equal when there is no dividend\n",
    " - American out is more expensive than European puts\n",
    "\n",
    "\"\"\""
   ]
  },
  {
   "cell_type": "code",
   "execution_count": 101,
   "id": "f948bb11",
   "metadata": {},
   "outputs": [],
   "source": [
    "\"\"\"\n",
    "Volatility experiment\n",
    "\"\"\"\n",
    "def getSample(vol, option, style):\n",
    "    tree = buildTree(S, vol, T, N)\n",
    "    if style == \"american\":\n",
    "        ans = valueOptionMatrixAmerican(tree, vol, T, r, K, option=option)\n",
    "    else:\n",
    "        ans = valueOptionMatrix(tree, vol, T, r, K, option=option)\n",
    "    return ans[0][0]"
   ]
  },
  {
   "cell_type": "code",
   "execution_count": 103,
   "id": "57c549cb",
   "metadata": {},
   "outputs": [],
   "source": [
    "puts = [getSample(x, \"put\", \"american\") for x in np.linspace(0.01,1, 100)]\n",
    "calls = [getSample(x, \"call\", \"american\") for x in np.linspace(0.01,1, 100)]\n",
    "puts_e = [getSample(x, \"put\", \"eur\") for x in np.linspace(0.01,1, 100)]\n",
    "calls_e = [getSample(x, \"call\", \"eur\") for x in np.linspace(0.01,1, 100)]"
   ]
  },
  {
   "cell_type": "code",
   "execution_count": 104,
   "id": "9b43caeb",
   "metadata": {},
   "outputs": [
    {
     "data": {
      "text/plain": [
       "[<matplotlib.lines.Line2D at 0x2e0b6555fa0>]"
      ]
     },
     "execution_count": 104,
     "metadata": {},
     "output_type": "execute_result"
    },
    {
     "data": {
      "image/png": "[encoded data removed]",
      "text/plain": [
       "<Figure size 432x288 with 1 Axes>"
      ]
     },
     "metadata": {
      "needs_background": "light"
     },
     "output_type": "display_data"
    }
   ],
   "source": [
    "plt.plot(np.linspace(0.01,1, 100), puts)"
   ]
  },
  {
   "cell_type": "code",
   "execution_count": 105,
   "id": "785ea11a",
   "metadata": {},
   "outputs": [
    {
     "data": {
      "text/plain": [
       "[<matplotlib.lines.Line2D at 0x2e0b7a71d30>]"
      ]
     },
     "execution_count": 105,
     "metadata": {},
     "output_type": "execute_result"
    },
    {
     "data": {
      "image/png": "[encoded data removed]",
      "text/plain": [
       "<Figure size 432x288 with 1 Axes>"
      ]
     },
     "metadata": {
      "needs_background": "light"
     },
     "output_type": "display_data"
    }
   ],
   "source": [
    "plt.plot(np.linspace(0.01,1, 100), calls)"
   ]
  },
  {
   "cell_type": "code",
   "execution_count": 106,
   "id": "732420bb",
   "metadata": {},
   "outputs": [
    {
     "data": {
      "text/plain": [
       "[<matplotlib.lines.Line2D at 0x2e0b7ade6a0>]"
      ]
     },
     "execution_count": 106,
     "metadata": {},
     "output_type": "execute_result"
    },
    {
     "data": {
      "image/png": "[encoded data removed]",
      "text/plain": [
       "<Figure size 432x288 with 1 Axes>"
      ]
     },
     "metadata": {
      "needs_background": "light"
     },
     "output_type": "display_data"
    }
   ],
   "source": [
    "plt.plot(np.linspace(0.01,1, 100), puts_e)"
   ]
  },
  {
   "cell_type": "code",
   "execution_count": 107,
   "id": "a57825f4",
   "metadata": {},
   "outputs": [
    {
     "data": {
      "text/plain": [
       "[<matplotlib.lines.Line2D at 0x2e0b7b475e0>]"
      ]
     },
     "execution_count": 107,
     "metadata": {},
     "output_type": "execute_result"
    },
    {
     "data": {
      "image/png": "[encoded data removed]",
      "text/plain": [
       "<Figure size 432x288 with 1 Axes>"
      ]
     },
     "metadata": {
      "needs_background": "light"
     },
     "output_type": "display_data"
    }
   ],
   "source": [
    "plt.plot(np.linspace(0.01,1, 100), calls_e)"
   ]
  }
 ],
 "metadata": {
  "kernelspec": {
   "display_name": "Python 3",
   "language": "python",
   "name": "python3"
  },
  "language_info": {
   "codemirror_mode": {
    "name": "ipython",
    "version": 3
   },
   "file_extension": ".py",
   "mimetype": "text/x-python",
   "name": "python",
   "nbconvert_exporter": "python",
   "pygments_lexer": "ipython3",
   "version": "3.9.2"
  }
 },
 "nbformat": 4,
 "nbformat_minor": 5
}
