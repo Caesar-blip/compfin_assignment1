{
 "cells": [
  {
   "cell_type": "markdown",
   "id": "b0b19286",
   "metadata": {},
   "source": [
    "# Assignment 01"
   ]
  },
  {
   "cell_type": "markdown",
   "id": "ebd919e4",
   "metadata": {},
   "source": [
    "## Part II - Binomial Tree"
   ]
  },
  {
   "cell_type": "code",
   "execution_count": 1,
   "id": "bea97e6d",
   "metadata": {},
   "outputs": [],
   "source": [
    "import numpy as np"
   ]
  },
  {
   "cell_type": "code",
   "execution_count": 2,
   "id": "b6a0f1cd",
   "metadata": {},
   "outputs": [],
   "source": [
    "def buildTree(S, vol, T, N):\n",
    "    \n",
    "    dt = T / N\n",
    "    \n",
    "    matrix = np.zeros((N+1, N+1))\n",
    "    \n",
    "    u = np.exp(vol * np.sqrt(T/N))\n",
    "    d = np.exp(-vol * np.sqrt(T/N))\n",
    "    \n",
    "    # Iterate over the lower triangle\n",
    "    for i in np.arange(N+1):\n",
    "        for j in np.arange(i + 1):\n",
    "            matrix[i,j] = S*(u**j)*(d**(i-j))\n",
    "\n",
    "    return matrix"
   ]
  },
  {
   "cell_type": "code",
   "execution_count": 3,
   "id": "8f789b1d",
   "metadata": {},
   "outputs": [],
   "source": [
    "def valueOptionMatrix(tree, vol, T, r, K):\n",
    "    \n",
    "    columns = tree.shape[1]\n",
    "    rows = tree.shape[0] \n",
    "    \n",
    "    dt = T/rows\n",
    "    u = np.exp(vol *np.sqrt(dt))\n",
    "    d = np.exp(-vol * np.sqrt(dt))\n",
    "    p = (np.exp(r*dt) - d) / (u - d)\n",
    "    \n",
    "    option_matrix = np.zeros((rows, columns))\n",
    "    \n",
    "    # Walk backwards, we start in last row of the matrix\n",
    "    # Add the payoff function in the last row\n",
    "    for column in np.arange(columns):\n",
    "        S = tree[rows - 1, column]\n",
    "        option_matrix[rows - 1, column] =  S - K if S-K > 0 else 0\n",
    "    \n",
    "    # For a l l o t h e r rows , we need t o combine from p r e v i o u s rows\n",
    "    # We walk backwards , from t h e l a s t row t o t h e f i r s t row\n",
    "    for row in np.arange(rows - 1)[::-1]:\n",
    "        for column in np.arange(row + 1):\n",
    "            down = option_matrix[row + 1, column]\n",
    "            up = option_matrix[row+1, column+1]\n",
    "            option_matrix[row, column] = (up*p+down*(1-p)) * np.exp(-r*dt)\n",
    "    return option_matrix"
   ]
  },
  {
   "cell_type": "code",
   "execution_count": 11,
   "id": "c18454e1",
   "metadata": {},
   "outputs": [],
   "source": [
    "'''\n",
    "Example from appendix\n",
    "'''\n",
    "\n",
    "r = 0.06\n",
    "vol = 0.20\n",
    "S = 100\n",
    "T = 1\n",
    "N = 50\n",
    "tree = buildTree(S, vol, T, N)"
   ]
  },
  {
   "cell_type": "code",
   "execution_count": 12,
   "id": "695ffe41",
   "metadata": {},
   "outputs": [
    {
     "data": {
      "text/plain": [
       "array([[100.        ,   0.        ,   0.        , ...,   0.        ,\n",
       "          0.        ,   0.        ],\n",
       "       [ 97.2111984 , 102.86880693,   0.        , ...,   0.        ,\n",
       "          0.        ,   0.        ],\n",
       "       [ 94.50017095, 100.        , 105.81991439, ...,   0.        ,\n",
       "          0.        ,   0.        ],\n",
       "       ...,\n",
       "       [ 25.72659203,  27.22385766,  28.80826287, ..., 388.70286396,\n",
       "          0.        ,   0.        ],\n",
       "       [ 25.00912842,  26.46463828,  28.00485757, ..., 377.86271228,\n",
       "        399.85399865,   0.        ],\n",
       "       [ 24.31167344,  25.72659203,  27.22385766, ..., 367.32487093,\n",
       "        388.70286396, 411.32503788]])"
      ]
     },
     "execution_count": 12,
     "metadata": {},
     "output_type": "execute_result"
    }
   ],
   "source": [
    "tree"
   ]
  },
  {
   "cell_type": "code",
   "execution_count": 13,
   "id": "c4c09133",
   "metadata": {},
   "outputs": [
    {
     "data": {
      "text/plain": [
       "array([[ 11.53347991,   0.        ,   0.        , ...,   0.        ,\n",
       "          0.        ,   0.        ],\n",
       "       [  9.59175926,  13.39574461,   0.        , ...,   0.        ,\n",
       "          0.        ,   0.        ],\n",
       "       [  7.85684611,  11.25404549,  15.45134913, ...,   0.        ,\n",
       "          0.        ,   0.        ],\n",
       "       ...,\n",
       "       [  0.        ,   0.        ,   0.        , ..., 289.94768907,\n",
       "          0.        ,   0.        ],\n",
       "       [  0.        ,   0.        ,   0.        , ..., 278.98502369,\n",
       "        300.97665399,   0.        ],\n",
       "       [  0.        ,   0.        ,   0.        , ..., 268.32487093,\n",
       "        289.70286396, 312.32503788]])"
      ]
     },
     "execution_count": 13,
     "metadata": {},
     "output_type": "execute_result"
    }
   ],
   "source": [
    "valueOptionMatrix(tree, vol, T, r, 99)"
   ]
  },
  {
   "cell_type": "code",
   "execution_count": null,
   "id": "05069378",
   "metadata": {},
   "outputs": [],
   "source": []
  }
 ],
 "metadata": {
  "kernelspec": {
   "display_name": "Python 3 (ipykernel)",
   "language": "python",
   "name": "python3"
  },
  "language_info": {
   "codemirror_mode": {
    "name": "ipython",
    "version": 3
   },
   "file_extension": ".py",
   "mimetype": "text/x-python",
   "name": "python",
   "nbconvert_exporter": "python",
   "pygments_lexer": "ipython3",
   "version": "3.9.7"
  }
 },
 "nbformat": 4,
 "nbformat_minor": 5
}
