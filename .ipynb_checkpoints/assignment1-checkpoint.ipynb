{
 "cells": [
  {
   "cell_type": "markdown",
   "id": "b0b19286",
   "metadata": {},
   "source": [
    "# Assignment 01"
   ]
  },
  {
   "cell_type": "markdown",
   "id": "ebd919e4",
   "metadata": {},
   "source": [
    "## Part II - Binomial Tree"
   ]
  },
  {
   "cell_type": "code",
   "execution_count": 5,
   "id": "bea97e6d",
   "metadata": {},
   "outputs": [],
   "source": [
    "import numpy as np"
   ]
  },
  {
   "cell_type": "code",
   "execution_count": 144,
   "id": "b6a0f1cd",
   "metadata": {},
   "outputs": [],
   "source": [
    "def buildTree(S, vol, T, N):\n",
    "    \n",
    "    dt = T / N\n",
    "    \n",
    "    matrix = np.zeros((N+1, N+1))\n",
    "    \n",
    "    u = np.exp(vol * np.sqrt(T/N))\n",
    "    d = np.exp(-vol * np.sqrt(T/N))\n",
    "    \n",
    "    # Iterate over the lower triangle\n",
    "    for i in np.arange(N+1):\n",
    "        for j in np.arange(i + 1):\n",
    "            matrix[i,j] = S*(u**j)*(d**(i-j))\n",
    "\n",
    "    return matrix"
   ]
  },
  {
   "cell_type": "code",
   "execution_count": 149,
   "id": "8f789b1d",
   "metadata": {},
   "outputs": [],
   "source": [
    "def valueOptionMatrix(tree, vol, T, r, K):\n",
    "    \n",
    "    columns = tree.shape[1]\n",
    "    rows = tree.shape[0] \n",
    "    \n",
    "    dt = T/rows\n",
    "    u = np.exp(vol *np.sqrt(dt))\n",
    "    d = np.exp(-vol * np.sqrt(dt))\n",
    "    p = (np.exp(r*dt) - d) / (u - d)\n",
    "    \n",
    "    option_matrix = np.zeros((rows, columns))\n",
    "    \n",
    "    # Walk backwards, we start in last row of the matrix\n",
    "    # Add the payoff function in the last row\n",
    "    for column in np.arange(columns):\n",
    "        S = tree[rows - 1, column]\n",
    "        option_matrix[rows - 1, column] =  S - K if S-K > 0 else 0\n",
    "    \n",
    "    # For a l l o t h e r rows , we need t o combine from p r e v i o u s rows\n",
    "    # We walk backwards , from t h e l a s t row t o t h e f i r s t row\n",
    "    for row in np.arange(rows - 1)[::-1]:\n",
    "        for column in np.arange(row + 1):\n",
    "            down = option_matrix[row + 1, column]\n",
    "            up = option_matrix[row+1, column+1]\n",
    "            option_matrix[row, column] = (up*p+down*(1-p)) * np.exp(-r*dt)\n",
    "    return option_matrix"
   ]
  },
  {
   "cell_type": "code",
   "execution_count": 146,
   "id": "c18454e1",
   "metadata": {},
   "outputs": [],
   "source": [
    "'''\n",
    "Example from appendix\n",
    "'''\n",
    "\n",
    "sigma = 0.8\n",
    "S = 100\n",
    "T = 1\n",
    "N = 50\n",
    "tree = buildTree(S, sigma, T, N)"
   ]
  },
  {
   "cell_type": "code",
   "execution_count": 147,
   "id": "695ffe41",
   "metadata": {},
   "outputs": [
    {
     "data": {
      "text/plain": [
       "array([[1.00000000e+02, 0.00000000e+00, 0.00000000e+00, ...,\n",
       "        0.00000000e+00, 0.00000000e+00, 0.00000000e+00],\n",
       "       [8.93028231e+01, 1.11978543e+02, 0.00000000e+00, ...,\n",
       "        0.00000000e+00, 0.00000000e+00, 0.00000000e+00],\n",
       "       [7.97499421e+01, 1.00000000e+02, 1.25391941e+02, ...,\n",
       "        0.00000000e+00, 0.00000000e+00, 0.00000000e+00],\n",
       "       ...,\n",
       "       [4.38055400e-01, 5.49286166e-01, 6.88760583e-01, ...,\n",
       "        2.28281629e+04, 0.00000000e+00, 0.00000000e+00],\n",
       "       [3.91195839e-01, 4.90528053e-01, 6.15082645e-01, ...,\n",
       "        2.03861939e+04, 2.55626441e+04, 0.00000000e+00],\n",
       "       [3.49348928e-01, 4.38055400e-01, 5.49286166e-01, ...,\n",
       "        1.82054467e+04, 2.28281629e+04, 2.86246764e+04]])"
      ]
     },
     "execution_count": 147,
     "metadata": {},
     "output_type": "execute_result"
    }
   ],
   "source": [
    "tree"
   ]
  },
  {
   "cell_type": "code",
   "execution_count": 150,
   "id": "c4c09133",
   "metadata": {},
   "outputs": [
    {
     "data": {
      "text/plain": [
       "array([[3.36378969e+01, 0.00000000e+00, 0.00000000e+00, ...,\n",
       "        0.00000000e+00, 0.00000000e+00, 0.00000000e+00],\n",
       "       [2.62099032e+01, 4.18564780e+01, 0.00000000e+00, ...,\n",
       "        0.00000000e+00, 0.00000000e+00, 0.00000000e+00],\n",
       "       [2.00997481e+01, 3.29667823e+01, 5.16962797e+01, ...,\n",
       "        0.00000000e+00, 0.00000000e+00, 0.00000000e+00],\n",
       "       ...,\n",
       "       [0.00000000e+00, 0.00000000e+00, 0.00000000e+00, ...,\n",
       "        2.27328046e+04, 0.00000000e+00, 0.00000000e+00],\n",
       "       [0.00000000e+00, 0.00000000e+00, 0.00000000e+00, ...,\n",
       "        2.02888324e+04, 2.54656692e+04, 0.00000000e+00],\n",
       "       [0.00000000e+00, 0.00000000e+00, 0.00000000e+00, ...,\n",
       "        1.81064467e+04, 2.27291629e+04, 2.85256764e+04]])"
      ]
     },
     "execution_count": 150,
     "metadata": {},
     "output_type": "execute_result"
    }
   ],
   "source": [
    "valueOptionMatrix(tree, sigma, T, 0.06, 99)"
   ]
  }
 ],
 "metadata": {
  "kernelspec": {
   "display_name": "Python 3",
   "language": "python",
   "name": "python3"
  },
  "language_info": {
   "codemirror_mode": {
    "name": "ipython",
    "version": 3
   },
   "file_extension": ".py",
   "mimetype": "text/x-python",
   "name": "python",
   "nbconvert_exporter": "python",
   "pygments_lexer": "ipython3",
   "version": "3.9.2"
  }
 },
 "nbformat": 4,
 "nbformat_minor": 5
}
