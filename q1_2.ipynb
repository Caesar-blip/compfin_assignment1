{
 "cells": [
  {
   "cell_type": "code",
   "execution_count": 1,
   "id": "bd576044",
   "metadata": {},
   "outputs": [
    {
     "name": "stdout",
     "output_type": "stream",
     "text": [
      "50882.203594307604\n"
     ]
    }
   ],
   "source": [
    "import numpy as np\n",
    "import math \n",
    "\n",
    "principal = 50000\n",
    "coupon = 300 # every 3 months\n",
    "period = 0.25\n",
    "T = 2 # 2 years\n",
    "periods = T / period\n",
    "rf = 0.015 #continuous compounding\n",
    "\n",
    "coupon_periods = periods\n",
    "fair_value = 0\n",
    "t = period\n",
    "\n",
    "for i in range(int(coupon_periods)):\n",
    "    discounted_coupon = coupon / (math.e**(rf*t))\n",
    "#     discounted_coupon = coupon / ((1+rf)**t)\n",
    "    fair_value += discounted_coupon\n",
    "    t += period\n",
    "\n",
    "discounted_principal = principal / (math.e**(rf*T))\n",
    "# discounted_principal = (principal) / ((1+rf)**T)\n",
    "fair_value += discounted_principal\n",
    "print(fair_value)"
   ]
  },
  {
   "cell_type": "code",
   "execution_count": null,
   "id": "cccd2b8f",
   "metadata": {},
   "outputs": [],
   "source": []
  }
 ],
 "metadata": {
  "kernelspec": {
   "display_name": "Python 3 (ipykernel)",
   "language": "python",
   "name": "python3"
  },
  "language_info": {
   "codemirror_mode": {
    "name": "ipython",
    "version": 3
   },
   "file_extension": ".py",
   "mimetype": "text/x-python",
   "name": "python",
   "nbconvert_exporter": "python",
   "pygments_lexer": "ipython3",
   "version": "3.8.12"
  }
 },
 "nbformat": 4,
 "nbformat_minor": 5
}
